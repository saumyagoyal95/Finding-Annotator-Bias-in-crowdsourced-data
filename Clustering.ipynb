{
 "cells": [
  {
   "cell_type": "code",
   "execution_count": 3,
   "metadata": {
    "colab": {
     "base_uri": "https://localhost:8080/"
    },
    "executionInfo": {
     "elapsed": 1588,
     "status": "ok",
     "timestamp": 1627591019824,
     "user": {
      "displayName": "S D",
      "photoUrl": "",
      "userId": "02987399034050858477"
     },
     "user_tz": -120
    },
    "id": "1oV_FDqHbbAf",
    "outputId": "6fcd7eaf-0a1a-4e8b-f78d-ba878d1b9060"
   },
   "outputs": [
    {
     "name": "stderr",
     "output_type": "stream",
     "text": [
      "[nltk_data] Downloading package stopwords to\n",
      "[nltk_data]     C:\\Users\\soner\\AppData\\Roaming\\nltk_data...\n",
      "[nltk_data]   Package stopwords is already up-to-date!\n"
     ]
    },
    {
     "data": {
      "text/plain": [
       "True"
      ]
     },
     "execution_count": 3,
     "metadata": {},
     "output_type": "execute_result"
    }
   ],
   "source": [
    "import nltk\n",
    "nltk.download('stopwords')"
   ]
  },
  {
   "cell_type": "code",
   "execution_count": 12,
   "metadata": {},
   "outputs": [],
   "source": [
    "import sys\n",
    "sys.path.append(\"src/\")"
   ]
  },
  {
   "cell_type": "code",
   "execution_count": 15,
   "metadata": {},
   "outputs": [
    {
     "name": "stdout",
     "output_type": "stream",
     "text": [
      "C:\\Users\\soner\\OneDrive\\Masaüstü\\source_codes\\src\n"
     ]
    }
   ],
   "source": [
    "cd src"
   ]
  },
  {
   "cell_type": "code",
   "execution_count": 5,
   "metadata": {
    "executionInfo": {
     "elapsed": 7049,
     "status": "ok",
     "timestamp": 1627591044643,
     "user": {
      "displayName": "S D",
      "photoUrl": "",
      "userId": "02987399034050858477"
     },
     "user_tz": -120
    },
    "id": "bsPvslVb5AOG"
   },
   "outputs": [],
   "source": [
    "import torch\n",
    "import pytz\n",
    "import datetime\n",
    "\n",
    "from datasets.organic import OrganicDataset\n",
    "from solver import Solver\n",
    "from utils import *\n",
    "\n",
    "import models.dawid_skene as ds"
   ]
  },
  {
   "cell_type": "code",
   "execution_count": 17,
   "metadata": {
    "colab": {
     "base_uri": "https://localhost:8080/"
    },
    "executionInfo": {
     "elapsed": 11983,
     "status": "ok",
     "timestamp": 1627584698556,
     "user": {
      "displayName": "S D",
      "photoUrl": "",
      "userId": "02987399034050858477"
     },
     "user_tz": -120
    },
    "id": "4AcRPXyn4cNj",
    "outputId": "421a269a-a009-418e-8d9b-ce443f69deea"
   },
   "outputs": [
    {
     "data": {
      "text/plain": [
       "Ipa2ltHead(\n",
       "  (basic_network): BasicNetwork(\n",
       "    (attention): Linear(in_features=50, out_features=1, bias=False)\n",
       "    (classifier): Linear(in_features=50, out_features=3, bias=True)\n",
       "    (softmax_batch): Softmax(dim=1)\n",
       "    (softmax): Softmax(dim=0)\n",
       "    (sigmoid): Sigmoid()\n",
       "  )\n",
       "  (bias_matrices): ModuleList(\n",
       "    (0): Linear(in_features=3, out_features=3, bias=False)\n",
       "    (1): Linear(in_features=3, out_features=3, bias=False)\n",
       "    (2): Linear(in_features=3, out_features=3, bias=False)\n",
       "    (3): Linear(in_features=3, out_features=3, bias=False)\n",
       "    (4): Linear(in_features=3, out_features=3, bias=False)\n",
       "    (5): Linear(in_features=3, out_features=3, bias=False)\n",
       "    (6): Linear(in_features=3, out_features=3, bias=False)\n",
       "    (7): Linear(in_features=3, out_features=3, bias=False)\n",
       "    (8): Linear(in_features=3, out_features=3, bias=False)\n",
       "    (9): Linear(in_features=3, out_features=3, bias=False)\n",
       "  )\n",
       ")"
      ]
     },
     "execution_count": 17,
     "metadata": {},
     "output_type": "execute_result"
    }
   ],
   "source": [
    "#if you have no gpu\n",
    "#model = torch.load('src',map_location=torch.device('cpu'))\n",
    "#if you have gpu\n",
    "model = torch.load('src')\n",
    "model.eval()"
   ]
  },
  {
   "cell_type": "code",
   "execution_count": 18,
   "metadata": {
    "executionInfo": {
     "elapsed": 14668,
     "status": "ok",
     "timestamp": 1627591059307,
     "user": {
      "displayName": "S D",
      "photoUrl": "",
      "userId": "02987399034050858477"
     },
     "user_tz": -120
    },
    "id": "cq_FnLwT7S_w"
   },
   "outputs": [],
   "source": [
    "from datasets.organic_train_set import OrganicDatasetTrain\n",
    "dataset = OrganicDatasetTrain(\n",
    "        text_processor='word2vec', \n",
    "        text_processor_filters=['lowercase', 'stopwordsfilter'],\n",
    "        embedding_path='data/embeddings/word2vec/glove.6B.50d.txt',\n",
    "        data_path='data/',\n",
    "        one_dataset_one_annotator = False\n",
    "        )"
   ]
  },
  {
   "cell_type": "markdown",
   "metadata": {
    "id": "XHtoHS9d9X8o"
   },
   "source": [
    "# Clustering based on bias matrices"
   ]
  },
  {
   "cell_type": "code",
   "execution_count": 19,
   "metadata": {
    "id": "ppT6nciM1DHd"
   },
   "outputs": [],
   "source": [
    "bias_matricesl=[]\n",
    "k=0\n",
    "for i in model.parameters():\n",
    "    k+=1\n",
    "    if k>3:\n",
    "        bias_matricesl.append(np.array(i.cpu().detach()))\n",
    "bias_matrices={}\n",
    "for i,an in enumerate(dataset.annotators):\n",
    "    bias_matrices[an]=bias_matricesl[i]"
   ]
  },
  {
   "cell_type": "code",
   "execution_count": 20,
   "metadata": {
    "colab": {
     "base_uri": "https://localhost:8080/"
    },
    "executionInfo": {
     "elapsed": 226,
     "status": "ok",
     "timestamp": 1627584899331,
     "user": {
      "displayName": "S D",
      "photoUrl": "",
      "userId": "02987399034050858477"
     },
     "user_tz": -120
    },
    "id": "GuHREE4vnpZ3",
    "outputId": "6bed6f50-83e2-41c3-e5c2-04cb108cd840"
   },
   "outputs": [
    {
     "name": "stdout",
     "output_type": "stream",
     "text": [
      "['sumit', 'hannah', 'fahad', 'sarthak', 'felix', 'kamal', 'sebastian', 'omar', 'abilasha', 'florian']\n",
      "(10, 3)\n"
     ]
    }
   ],
   "source": [
    "# import all libraries\n",
    "import pandas as pd\n",
    "import numpy as np\n",
    "import matplotlib.pyplot as plt\n",
    "%matplotlib inline\n",
    "from sklearn.decomposition import PCA\n",
    "from sklearn.preprocessing import StandardScaler\n",
    "ans=[]\n",
    "matrices=[]\n",
    "for an in bias_matrices:\n",
    "  ans.append(an)\n",
    "  flatten_list = [j for sub in bias_matrices[an] for j in sub]\n",
    "  matrices.append(flatten_list)\n",
    "print(ans)\n",
    "from sklearn.cluster import KMeans\n",
    "import numpy as np\n",
    "data = np.array(matrices)\n",
    "  \n",
    "  \n",
    "# Set the n_components=3\n",
    "principal=PCA(n_components=3)\n",
    "principal.fit(data)\n",
    "x=principal.transform(data)\n",
    "  \n",
    "# Check the dimensions of data after PCA\n",
    "print(x.shape)"
   ]
  },
  {
   "cell_type": "code",
   "execution_count": 21,
   "metadata": {
    "colab": {
     "base_uri": "https://localhost:8080/",
     "height": 478
    },
    "executionInfo": {
     "elapsed": 742,
     "status": "ok",
     "timestamp": 1627584903010,
     "user": {
      "displayName": "S D",
      "photoUrl": "",
      "userId": "02987399034050858477"
     },
     "user_tz": -120
    },
    "id": "vqIPxAPuoR5O",
    "outputId": "c3475538-e226-4eb8-e579-fe44a0a0d3f0"
   },
   "outputs": [
    {
     "data": {
      "image/png": "[encoded data removed]",
      "text/plain": [
       "<Figure size 432x288 with 1 Axes>"
      ]
     },
     "metadata": {
      "needs_background": "light"
     },
     "output_type": "display_data"
    },
    {
     "data": {
      "image/png": "[encoded data removed]",
      "text/plain": [
       "<Figure size 1152x216 with 1 Axes>"
      ]
     },
     "metadata": {
      "needs_background": "light"
     },
     "output_type": "display_data"
    }
   ],
   "source": [
    "import numpy as np\n",
    "\n",
    "from matplotlib import pyplot as plt\n",
    "from scipy.cluster.hierarchy import dendrogram\n",
    "from sklearn.datasets import load_iris\n",
    "from sklearn.cluster import AgglomerativeClustering\n",
    "\n",
    "\n",
    "def plot_dendrogram(model, **kwargs):\n",
    "    # Create linkage matrix and then plot the dendrogram\n",
    "\n",
    "    # create the counts of samples under each node\n",
    "    counts = np.zeros(model.children_.shape[0])\n",
    "    n_samples = len(model.labels_)\n",
    "    for i, merge in enumerate(model.children_):\n",
    "        current_count = 0\n",
    "        for child_idx in merge:\n",
    "            if child_idx < n_samples:\n",
    "                current_count += 1  # leaf node\n",
    "            else:\n",
    "                current_count += counts[child_idx - n_samples]\n",
    "        counts[i] = current_count\n",
    "\n",
    "    linkage_matrix = np.column_stack([model.children_, model.distances_,\n",
    "                                      counts]).astype(float)\n",
    "\n",
    "    # Plot the corresponding dendrogram\n",
    "    dendrogram(linkage_matrix, labels=ans,**kwargs)\n",
    "\n",
    "\n",
    "\n",
    "# setting distance_threshold=0 ensures we compute the full tree.\n",
    "model = AgglomerativeClustering(distance_threshold=0, n_clusters=None,linkage='ward')\n",
    "model = model.fit(x)\n",
    "plt.title('Hierarchical Clustering Dendrogram')\n",
    "# plot the top three levels of the dendrogram\n",
    "fig, axes = plt.subplots(figsize=(16, 3))\n",
    "plot_dendrogram(model, truncate_mode='level', p=5)\n",
    "plt.show()"
   ]
  },
  {
   "cell_type": "code",
   "execution_count": null,
   "metadata": {
    "id": "jsC2NYWhnrMm"
   },
   "outputs": [],
   "source": []
  },
  {
   "cell_type": "markdown",
   "metadata": {
    "id": "o8zRwaqw1zd-"
   },
   "source": [
    "# Clustering based on bias matrices"
   ]
  },
  {
   "cell_type": "code",
   "execution_count": 23,
   "metadata": {
    "colab": {
     "base_uri": "https://localhost:8080/"
    },
    "executionInfo": {
     "elapsed": 12089,
     "status": "ok",
     "timestamp": 1627591071381,
     "user": {
      "displayName": "S D",
      "photoUrl": "",
      "userId": "02987399034050858477"
     },
     "user_tz": -120
    },
    "id": "moqbpk4V106U",
    "outputId": "13e92f97-8e9b-47ba-e347-ba6f00e9a913"
   },
   "outputs": [
    {
     "data": {
      "text/plain": [
       "Ipa2ltHead(\n",
       "  (basic_network): BasicNetwork(\n",
       "    (attention): Linear(in_features=50, out_features=1, bias=False)\n",
       "    (classifier): Linear(in_features=50, out_features=3, bias=True)\n",
       "    (softmax_batch): Softmax(dim=1)\n",
       "    (softmax): Softmax(dim=0)\n",
       "    (sigmoid): Sigmoid()\n",
       "  )\n",
       "  (bias_matrices): ModuleList(\n",
       "    (0): Linear(in_features=3, out_features=3, bias=False)\n",
       "    (1): Linear(in_features=3, out_features=3, bias=False)\n",
       "    (2): Linear(in_features=3, out_features=3, bias=False)\n",
       "    (3): Linear(in_features=3, out_features=3, bias=False)\n",
       "    (4): Linear(in_features=3, out_features=3, bias=False)\n",
       "    (5): Linear(in_features=3, out_features=3, bias=False)\n",
       "    (6): Linear(in_features=3, out_features=3, bias=False)\n",
       "    (7): Linear(in_features=3, out_features=3, bias=False)\n",
       "    (8): Linear(in_features=3, out_features=3, bias=False)\n",
       "    (9): Linear(in_features=3, out_features=3, bias=False)\n",
       "  )\n",
       ")"
      ]
     },
     "execution_count": 23,
     "metadata": {},
     "output_type": "execute_result"
    }
   ],
   "source": [
    "#if you have no gpu\n",
    "#model = torch.load('src_spammer',map_location=torch.device('cpu'))\n",
    "#if you have gpu\n",
    "model = torch.load('src_spammer')\n",
    "model.eval()"
   ]
  },
  {
   "cell_type": "code",
   "execution_count": 24,
   "metadata": {
    "executionInfo": {
     "elapsed": 18,
     "status": "ok",
     "timestamp": 1627591071383,
     "user": {
      "displayName": "S D",
      "photoUrl": "",
      "userId": "02987399034050858477"
     },
     "user_tz": -120
    },
    "id": "BjfhJjsE168S"
   },
   "outputs": [],
   "source": [
    "bias_matricesl=[]\n",
    "k=0\n",
    "for i in model.parameters():\n",
    "    k+=1\n",
    "    if k>3:\n",
    "        bias_matricesl.append(np.array(i.cpu().detach()))\n",
    "bias_matrices={}\n",
    "for i,an in enumerate(dataset.annotators):\n",
    "    bias_matrices[an]=bias_matricesl[i]"
   ]
  },
  {
   "cell_type": "code",
   "execution_count": 25,
   "metadata": {
    "colab": {
     "base_uri": "https://localhost:8080/"
    },
    "executionInfo": {
     "elapsed": 332,
     "status": "ok",
     "timestamp": 1627591071698,
     "user": {
      "displayName": "S D",
      "photoUrl": "",
      "userId": "02987399034050858477"
     },
     "user_tz": -120
    },
    "id": "zairpT2m1_BG",
    "outputId": "ebb091d5-2f79-4463-ff25-5a55134965a9"
   },
   "outputs": [
    {
     "name": "stdout",
     "output_type": "stream",
     "text": [
      "['sumit', 'hannah', 'fahad', 'sarthak', 'felix', 'kamal', 'sebastian', 'omar', 'abilasha', 'florian']\n"
     ]
    }
   ],
   "source": [
    "# import all libraries\n",
    "import pandas as pd\n",
    "import numpy as np\n",
    "import matplotlib.pyplot as plt\n",
    "%matplotlib inline\n",
    "from sklearn.decomposition import PCA\n",
    "from sklearn.preprocessing import StandardScaler\n",
    "ans=[]\n",
    "matrices=[]\n",
    "for an in bias_matrices:\n",
    "  ans.append(an)\n",
    "  flatten_list = [j for sub in bias_matrices[an] for j in sub]\n",
    "  matrices.append(flatten_list)\n",
    "print(ans)\n",
    "from sklearn.cluster import KMeans\n",
    "import numpy as np\n",
    "data = np.array(matrices)"
   ]
  },
  {
   "cell_type": "code",
   "execution_count": 26,
   "metadata": {
    "colab": {
     "base_uri": "https://localhost:8080/",
     "height": 478
    },
    "executionInfo": {
     "elapsed": 369,
     "status": "ok",
     "timestamp": 1627591072063,
     "user": {
      "displayName": "S D",
      "photoUrl": "",
      "userId": "02987399034050858477"
     },
     "user_tz": -120
    },
    "id": "USyb1lEY2DN6",
    "outputId": "68305675-cfbe-49bb-ebfa-28f07c2969a6"
   },
   "outputs": [
    {
     "data": {
      "image/png": "[encoded data removed]",
      "text/plain": [
       "<Figure size 432x288 with 1 Axes>"
      ]
     },
     "metadata": {
      "needs_background": "light"
     },
     "output_type": "display_data"
    },
    {
     "data": {
      "image/png": "[encoded data removed]",
      "text/plain": [
       "<Figure size 1152x216 with 1 Axes>"
      ]
     },
     "metadata": {
      "needs_background": "light"
     },
     "output_type": "display_data"
    }
   ],
   "source": [
    "import numpy as np\n",
    "\n",
    "from matplotlib import pyplot as plt\n",
    "from scipy.cluster.hierarchy import dendrogram\n",
    "from sklearn.datasets import load_iris\n",
    "from sklearn.cluster import AgglomerativeClustering\n",
    "\n",
    "\n",
    "def plot_dendrogram(model, **kwargs):\n",
    "    # Create linkage matrix and then plot the dendrogram\n",
    "\n",
    "    # create the counts of samples under each node\n",
    "    counts = np.zeros(model.children_.shape[0])\n",
    "    n_samples = len(model.labels_)\n",
    "    for i, merge in enumerate(model.children_):\n",
    "        current_count = 0\n",
    "        for child_idx in merge:\n",
    "            if child_idx < n_samples:\n",
    "                current_count += 1  # leaf node\n",
    "            else:\n",
    "                current_count += counts[child_idx - n_samples]\n",
    "        counts[i] = current_count\n",
    "\n",
    "    linkage_matrix = np.column_stack([model.children_, model.distances_,\n",
    "                                      counts]).astype(float)\n",
    "\n",
    "    # Plot the corresponding dendrogram\n",
    "    dendrogram(linkage_matrix, labels=ans,**kwargs)\n",
    "\n",
    "\n",
    "\n",
    "# setting distance_threshold=0 ensures we compute the full tree.\n",
    "model = AgglomerativeClustering(distance_threshold=0, n_clusters=None,linkage='ward')\n",
    "model = model.fit(data)\n",
    "plt.title('Hierarchical Clustering Dendrogram')\n",
    "# plot the top three levels of the dendrogram\n",
    "fig, axes = plt.subplots(figsize=(16, 3))\n",
    "plot_dendrogram(model, truncate_mode='level', p=5)\n",
    "plt.show()"
   ]
  },
  {
   "cell_type": "code",
   "execution_count": null,
   "metadata": {
    "id": "7WzHEywO_Hf8"
   },
   "outputs": [],
   "source": []
  }
 ],
 "metadata": {
  "accelerator": "GPU",
  "colab": {
   "collapsed_sections": [],
   "name": "Clustering.ipynb",
   "provenance": []
  },
  "kernelspec": {
   "display_name": "Python 3",
   "language": "python",
   "name": "python3"
  },
  "language_info": {
   "codemirror_mode": {
    "name": "ipython",
    "version": 3
   },
   "file_extension": ".py",
   "mimetype": "text/x-python",
   "name": "python",
   "nbconvert_exporter": "python",
   "pygments_lexer": "ipython3",
   "version": "3.8.5"
  }
 },
 "nbformat": 4,
 "nbformat_minor": 1
}
