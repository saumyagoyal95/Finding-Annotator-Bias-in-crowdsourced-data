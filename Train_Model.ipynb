{
 "cells": [
  {
   "cell_type": "code",
   "execution_count": 1,
   "metadata": {
    "colab": {
     "base_uri": "https://localhost:8080/"
    },
    "executionInfo": {
     "elapsed": 882,
     "status": "ok",
     "timestamp": 1627587970470,
     "user": {
      "displayName": "S D",
      "photoUrl": "",
      "userId": "02987399034050858477"
     },
     "user_tz": -120
    },
    "id": "1oV_FDqHbbAf",
    "outputId": "70f70c66-df32-47e4-9599-76d02e28809f"
   },
   "outputs": [
    {
     "name": "stdout",
     "output_type": "stream",
     "text": [
      "[nltk_data] Downloading package stopwords to /root/nltk_data...\n",
      "[nltk_data]   Package stopwords is already up-to-date!\n"
     ]
    },
    {
     "data": {
      "text/plain": [
       "True"
      ]
     },
     "execution_count": 1,
     "metadata": {
      "tags": []
     },
     "output_type": "execute_result"
    }
   ],
   "source": [
    "import nltk\n",
    "nltk.download('stopwords')"
   ]
  },
  {
   "cell_type": "code",
   "execution_count": null,
   "metadata": {},
   "outputs": [],
   "source": [
    "import sys\n",
    "sys.path.append(\"src/\")"
   ]
  },
  {
   "cell_type": "code",
   "execution_count": null,
   "metadata": {},
   "outputs": [],
   "source": [
    "cd src"
   ]
  },
  {
   "cell_type": "code",
   "execution_count": null,
   "metadata": {
    "colab": {
     "base_uri": "https://localhost:8080/"
    },
    "executionInfo": {
     "elapsed": 1986925,
     "status": "ok",
     "timestamp": 1627241875960,
     "user": {
      "displayName": "S D",
      "photoUrl": "",
      "userId": "02987399034050858477"
     },
     "user_tz": -120
    },
    "id": "zadAPYIQbK2W",
    "outputId": "1bb51863-f004-4ab7-dafc-aba6882c72d6"
   },
   "outputs": [
    {
     "name": "stdout",
     "output_type": "stream",
     "text": [
      "learning rate: 1e-05 - batch size: 64\n",
      "Finished Training                    \n",
      "sum of first 10 losses:  19.470059394836426\n",
      "sum of last  10 losses:  9.17307734489441\n"
     ]
    }
   ],
   "source": [
    "import torch\n",
    "import pytz\n",
    "import datetime\n",
    "\n",
    "from datasets.organic import OrganicDataset\n",
    "from solver import Solver\n",
    "from utils import *\n",
    "\n",
    "# gpu\n",
    "DEVICE = torch.device('cuda')\n",
    "\n",
    "# cpu\n",
    "#DEVICE = torch.device('cpu')\n",
    "\n",
    "label_dim = 3\n",
    "annotator_dim = 10\n",
    "loss = 'nll'\n",
    "one_dataset_one_annotator = False\n",
    "dataset = OrganicDataset(\n",
    "        text_processor='word2vec', \n",
    "        text_processor_filters=['lowercase', 'stopwordsfilter'],\n",
    "        embedding_path='./data/embeddings/word2vec/glove.6B.50d.txt',\n",
    "        data_path='data/',\n",
    "        one_dataset_one_annotator = False\n",
    "        )\n",
    "\n",
    "lr = 1e-5\n",
    "batch_size = 64\n",
    "current_time = datetime.datetime.now(pytz.timezone('Europe/Berlin')).strftime(\"%Y%m%d-%H%M%S\")\n",
    "hyperparams = {'batch': batch_size, 'lr': lr}\n",
    "writer = get_writer(path=f'../logs/test',\n",
    "                    current_time=current_time, params=hyperparams,stem='')\n",
    "\n",
    "solver = Solver(dataset, lr, batch_size, \n",
    "                writer=writer,\n",
    "                device=DEVICE,\n",
    "                label_dim=label_dim,\n",
    "                annotator_dim=annotator_dim,\n",
    "                loss='nll_log',\n",
    "                averaging_method='macro')\n",
    "\n",
    "model, f1 = solver.fit(epochs=500, return_f1=True,\n",
    "                       deep_randomization=True)"
   ]
  },
  {
   "cell_type": "code",
   "execution_count": null,
   "metadata": {
    "id": "2nQMJcYN4JZ9"
   },
   "outputs": [],
   "source": [
    "torch.save(model, 'src')"
   ]
  },
  {
   "cell_type": "code",
   "execution_count": 10,
   "metadata": {
    "colab": {
     "base_uri": "https://localhost:8080/"
    },
    "executionInfo": {
     "elapsed": 2294347,
     "status": "ok",
     "timestamp": 1627590427930,
     "user": {
      "displayName": "S D",
      "photoUrl": "",
      "userId": "02987399034050858477"
     },
     "user_tz": -120
    },
    "id": "DbmMWxa6PJmB",
    "outputId": "e75714fd-7a91-4ec0-8817-7828316aab98"
   },
   "outputs": [
    {
     "name": "stderr",
     "output_type": "stream",
     "text": [
      "/usr/local/lib/python3.7/dist-packages/pandas/core/generic.py:5170: SettingWithCopyWarning: \n",
      "A value is trying to be set on a copy of a slice from a DataFrame.\n",
      "Try using .loc[row_indexer,col_indexer] = value instead\n",
      "\n",
      "See the caveats in the documentation: https://pandas.pydata.org/pandas-docs/stable/user_guide/indexing.html#returning-a-view-versus-a-copy\n",
      "  self[name] = value\n"
     ]
    },
    {
     "name": "stdout",
     "output_type": "stream",
     "text": [
      "Empty DataFrame\n",
      "Columns: [label, entity, attribute, text, annotator, embedding, split, pseudo_labels]\n",
      "Index: []\n",
      "learning rate: 1e-05 - batch size: 64\n",
      "Finished Training                    \n",
      "sum of first 10 losses:  18.714295148849487\n",
      "sum of last  10 losses:  10.009635329246521\n"
     ]
    }
   ],
   "source": [
    "import torch\n",
    "import pytz\n",
    "import datetime\n",
    "\n",
    "from datasets.organic_manipulated_sumit import OrganicDataset_manipulated_sumit\n",
    "from solver import Solver\n",
    "from utils import *\n",
    "\n",
    "# gpu\n",
    "DEVICE = torch.device('cuda')\n",
    "\n",
    "# cpu\n",
    "#DEVICE = torch.device('cpu')\n",
    "\n",
    "label_dim = 3\n",
    "annotator_dim = 10\n",
    "loss = 'nll'\n",
    "one_dataset_one_annotator = False\n",
    "dataset = OrganicDataset_manipulated_sumit(\n",
    "        text_processor='word2vec', \n",
    "        text_processor_filters=['lowercase', 'stopwordsfilter'],\n",
    "        embedding_path='./data/embeddings/word2vec/glove.6B.50d.txt',\n",
    "        data_path='data/',\n",
    "        one_dataset_one_annotator = False\n",
    "        )\n",
    "\n",
    "lr = 1e-5\n",
    "batch_size = 64\n",
    "current_time = datetime.datetime.now(pytz.timezone('Europe/Berlin')).strftime(\"%Y%m%d-%H%M%S\")\n",
    "hyperparams = {'batch': batch_size, 'lr': lr}\n",
    "writer = get_writer(path=f'../logs/test',\n",
    "                    current_time=current_time, params=hyperparams,stem='')\n",
    "\n",
    "solver = Solver(dataset, lr, batch_size, \n",
    "                writer=writer,\n",
    "                device=DEVICE,\n",
    "                label_dim=label_dim,\n",
    "                annotator_dim=annotator_dim,\n",
    "                loss='nll_log',\n",
    "                averaging_method='macro')\n",
    "\n",
    "model, f1 = solver.fit(epochs=500, return_f1=True,\n",
    "                       deep_randomization=True)"
   ]
  },
  {
   "cell_type": "code",
   "execution_count": 11,
   "metadata": {
    "executionInfo": {
     "elapsed": 209,
     "status": "ok",
     "timestamp": 1627590866596,
     "user": {
      "displayName": "S D",
      "photoUrl": "",
      "userId": "02987399034050858477"
     },
     "user_tz": -120
    },
    "id": "MxayeBPqy0RJ"
   },
   "outputs": [],
   "source": [
    "torch.save(model, 'src_spammer')"
   ]
  },
  {
   "cell_type": "code",
   "execution_count": null,
   "metadata": {
    "id": "oFzWgbNH-bSD"
   },
   "outputs": [],
   "source": []
  }
 ],
 "metadata": {
  "accelerator": "GPU",
  "colab": {
   "collapsed_sections": [],
   "name": "Train_Model.ipynb",
   "provenance": []
  },
  "kernelspec": {
   "display_name": "Python 3",
   "language": "python",
   "name": "python3"
  },
  "language_info": {
   "codemirror_mode": {
    "name": "ipython",
    "version": 3
   },
   "file_extension": ".py",
   "mimetype": "text/x-python",
   "name": "python",
   "nbconvert_exporter": "python",
   "pygments_lexer": "ipython3",
   "version": "3.8.5"
  }
 },
 "nbformat": 4,
 "nbformat_minor": 1
}
